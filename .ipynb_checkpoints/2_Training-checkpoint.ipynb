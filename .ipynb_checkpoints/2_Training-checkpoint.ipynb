{
 "cells": [
  {
   "cell_type": "code",
   "execution_count": 1,
   "metadata": {},
   "outputs": [
    {
     "name": "stdout",
     "output_type": "stream",
     "text": [
      "[nltk_data] Downloading package punkt to /root/nltk_data...\n",
      "[nltk_data]   Unzipping tokenizers/punkt.zip.\n"
     ]
    },
    {
     "data": {
      "text/plain": [
       "True"
      ]
     },
     "execution_count": 1,
     "metadata": {},
     "output_type": "execute_result"
    }
   ],
   "source": [
    "import nltk\n",
    "nltk.download('punkt')"
   ]
  },
  {
   "cell_type": "code",
   "execution_count": 4,
   "metadata": {},
   "outputs": [
    {
     "name": "stdout",
     "output_type": "stream",
     "text": [
      "Vocabulary successfully loaded from vocab.pkl file!\n",
      "loading annotations into memory...\n"
     ]
    },
    {
     "name": "stderr",
     "output_type": "stream",
     "text": [
      "100%|██████████| 414113/414113 [01:36<00:00, 4289.03it/s]\n"
     ]
    },
    {
     "name": "stdout",
     "output_type": "stream",
     "text": [
      "Done (t=0.92s)\n",
      "creating index...\n",
      "index created!\n",
      "Obtaining caption lengths...\n",
      "cuda\n"
     ]
    },
    {
     "name": "stderr",
     "output_type": "stream",
     "text": [
      "/opt/conda/lib/python3.6/site-packages/torch/nn/modules/rnn.py:38: UserWarning: dropout option adds dropout after all but last recurrent layer, so non-zero dropout expects num_layers greater than 1, but got dropout=0.2 and num_layers=1\n",
      "  \"num_layers={}\".format(dropout, num_layers))\n"
     ]
    }
   ],
   "source": [
    "import torch\n",
    "import torch.nn as nn\n",
    "from torchvision import transforms\n",
    "import sys\n",
    "sys.path.append('/opt/cocoapi/PythonAPI')\n",
    "from pycocotools.coco import COCO\n",
    "from data_loader import get_loader\n",
    "from model import EncoderCNN, DecoderRNN\n",
    "import math\n",
    "\n",
    "\n",
    "## TODO #1: Select appropriate values for the Python variables below.\n",
    "batch_size = 256          # batch size\n",
    "vocab_threshold = 4        # minimum word count threshold\n",
    "vocab_from_file = True    # if True, load existing vocab file\n",
    "embed_size = 512           # dimensionality of image and word embeddings\n",
    "hidden_size = 512          # number of features in hidden state of the RNN decoder\n",
    "num_epochs = 3             # number of training epochs\n",
    "save_every = 1             # determines frequency of saving model weights\n",
    "print_every = 100          # determines window for printing average loss\n",
    "log_file = 'training_log.txt'       # name of file with saved training loss and perplexity\n",
    "\n",
    "# (Optional) TODO #2: Amend the image transform below.\n",
    "transform_train = transforms.Compose([ \n",
    "    transforms.Resize(256),                          # smaller edge of image resized to 256\n",
    "    transforms.RandomCrop(224),                      # get 224x224 crop from random location\n",
    "    transforms.RandomHorizontalFlip(),               # horizontally flip image with probability=0.5\n",
    "    transforms.ToTensor(),                           # convert the PIL Image to a tensor\n",
    "    transforms.Normalize((0.485, 0.456, 0.406),      # normalize image for pre-trained model\n",
    "                         (0.229, 0.224, 0.225))])\n",
    "\n",
    "# Build data loader.\n",
    "data_loader = get_loader(transform=transform_train,\n",
    "                         mode='train',\n",
    "                         batch_size=batch_size,\n",
    "                         vocab_threshold=vocab_threshold,\n",
    "                         vocab_from_file=vocab_from_file)\n",
    "\n",
    "# The size of the vocabulary.\n",
    "vocab_size = len(data_loader.dataset.vocab)\n",
    "\n",
    "# Initialize the encoder and decoder. \n",
    "encoder = EncoderCNN(embed_size)\n",
    "decoder = DecoderRNN(embed_size, hidden_size, vocab_size)\n",
    "\n",
    "# Move models to GPU if CUDA is available. \n",
    "device = torch.device(\"cuda\" if torch.cuda.is_available() else \"cpu\")\n",
    "print(device)\n",
    "encoder.to(device)\n",
    "decoder.to(device)\n",
    "\n",
    "# Define the loss function. \n",
    "criterion = nn.CrossEntropyLoss().cuda() if torch.cuda.is_available() else nn.CrossEntropyLoss()\n",
    "\n",
    "# TODO #3: Specify the learnable parameters of the model.\n",
    "params = list(decoder.parameters()) + list(encoder.embed.parameters())\n",
    "\n",
    "# TODO #4: Define the optimizer.\n",
    "optimizer = torch.optim.Adam(params, lr=0.01)\n",
    "\n",
    "# Set the total number of training steps per epoch.\n",
    "total_step = math.ceil(len(data_loader.dataset.caption_lengths) / data_loader.batch_sampler.batch_size)"
   ]
  },
  {
   "cell_type": "code",
   "execution_count": 5,
   "metadata": {},
   "outputs": [
    {
     "name": "stdout",
     "output_type": "stream",
     "text": [
      "Epoch [1/3], Step [100/1618], Loss: 3.1503, Perplexity: 23.3426\n",
      "Epoch [1/3], Step [200/1618], Loss: 2.8933, Perplexity: 18.0532\n",
      "Epoch [1/3], Step [300/1618], Loss: 3.4931, Perplexity: 32.8861\n",
      "Epoch [1/3], Step [400/1618], Loss: 2.5340, Perplexity: 12.6032\n",
      "Epoch [1/3], Step [500/1618], Loss: 2.6017, Perplexity: 13.4862\n",
      "Epoch [1/3], Step [600/1618], Loss: 2.6319, Perplexity: 13.9008\n",
      "Epoch [1/3], Step [700/1618], Loss: 2.4414, Perplexity: 11.4895\n",
      "Epoch [1/3], Step [800/1618], Loss: 2.6324, Perplexity: 13.9071\n",
      "Epoch [1/3], Step [900/1618], Loss: 2.4851, Perplexity: 12.0024\n",
      "Epoch [1/3], Step [1000/1618], Loss: 2.5922, Perplexity: 13.3596\n",
      "Epoch [1/3], Step [1100/1618], Loss: 2.5986, Perplexity: 13.4448\n",
      "Epoch [1/3], Step [1200/1618], Loss: 2.5296, Perplexity: 12.5488\n",
      "Epoch [1/3], Step [1300/1618], Loss: 2.8923, Perplexity: 18.0349\n",
      "Epoch [1/3], Step [1400/1618], Loss: 3.2492, Perplexity: 25.7695\n",
      "Epoch [1/3], Step [1500/1618], Loss: 2.4357, Perplexity: 11.4236\n",
      "Epoch [1/3], Step [1600/1618], Loss: 2.4769, Perplexity: 11.9043\n",
      "Epoch [2/3], Step [100/1618], Loss: 2.4088, Perplexity: 11.12105\n",
      "Epoch [2/3], Step [200/1618], Loss: 2.4630, Perplexity: 11.7404\n",
      "Epoch [2/3], Step [300/1618], Loss: 2.3574, Perplexity: 10.5632\n",
      "Epoch [2/3], Step [400/1618], Loss: 2.5976, Perplexity: 13.4316\n",
      "Epoch [2/3], Step [500/1618], Loss: 2.5435, Perplexity: 12.7239\n",
      "Epoch [2/3], Step [600/1618], Loss: 2.2864, Perplexity: 9.83948\n",
      "Epoch [2/3], Step [700/1618], Loss: 2.3559, Perplexity: 10.5473\n",
      "Epoch [2/3], Step [800/1618], Loss: 2.9239, Perplexity: 18.6131\n",
      "Epoch [2/3], Step [900/1618], Loss: 2.3724, Perplexity: 10.7229\n",
      "Epoch [2/3], Step [1000/1618], Loss: 2.3712, Perplexity: 10.7103\n",
      "Epoch [2/3], Step [1100/1618], Loss: 2.5801, Perplexity: 13.1980\n",
      "Epoch [2/3], Step [1200/1618], Loss: 2.3483, Perplexity: 10.4680\n",
      "Epoch [2/3], Step [1300/1618], Loss: 2.4562, Perplexity: 11.6607\n",
      "Epoch [2/3], Step [1400/1618], Loss: 2.3967, Perplexity: 10.9864\n",
      "Epoch [2/3], Step [1500/1618], Loss: 2.3697, Perplexity: 10.69457\n",
      "Epoch [2/3], Step [1600/1618], Loss: 2.4057, Perplexity: 11.08632\n",
      "Epoch [3/3], Step [100/1618], Loss: 2.4341, Perplexity: 11.40524\n",
      "Epoch [3/3], Step [200/1618], Loss: 2.3528, Perplexity: 10.5152\n",
      "Epoch [3/3], Step [300/1618], Loss: 2.3212, Perplexity: 10.1880\n",
      "Epoch [3/3], Step [400/1618], Loss: 2.3494, Perplexity: 10.4790\n",
      "Epoch [3/3], Step [500/1618], Loss: 2.3197, Perplexity: 10.1728\n",
      "Epoch [3/3], Step [600/1618], Loss: 2.4986, Perplexity: 12.1659\n",
      "Epoch [3/3], Step [700/1618], Loss: 2.8102, Perplexity: 16.6135\n",
      "Epoch [3/3], Step [800/1618], Loss: 2.3788, Perplexity: 10.7923\n",
      "Epoch [3/3], Step [900/1618], Loss: 2.4989, Perplexity: 12.1692\n",
      "Epoch [3/3], Step [1000/1618], Loss: 2.5834, Perplexity: 13.2423\n",
      "Epoch [3/3], Step [1100/1618], Loss: 2.3733, Perplexity: 10.7331\n",
      "Epoch [3/3], Step [1200/1618], Loss: 2.5937, Perplexity: 13.3789\n",
      "Epoch [3/3], Step [1300/1618], Loss: 2.4071, Perplexity: 11.1012\n",
      "Epoch [3/3], Step [1400/1618], Loss: 2.3198, Perplexity: 10.1732\n",
      "Epoch [3/3], Step [1500/1618], Loss: 2.4684, Perplexity: 11.8035\n",
      "Epoch [3/3], Step [1600/1618], Loss: 2.6397, Perplexity: 14.0086\n",
      "Epoch [3/3], Step [1618/1618], Loss: 2.3518, Perplexity: 10.5048"
     ]
    }
   ],
   "source": [
    "import torch.utils.data as data\n",
    "import numpy as np\n",
    "import os\n",
    "import requests\n",
    "import time\n",
    "\n",
    "# Open the training log file.\n",
    "f = open(log_file, 'w')\n",
    "\n",
    "old_time = time.time()\n",
    "response = requests.request(\"GET\", \n",
    "                            \"http://metadata.google.internal/computeMetadata/v1/instance/attributes/keep_alive_token\", \n",
    "                            headers={\"Metadata-Flavor\":\"Google\"})\n",
    "\n",
    "for epoch in range(1, num_epochs+1):\n",
    "    \n",
    "    for i_step in range(1, total_step+1):\n",
    "        \n",
    "        if time.time() - old_time > 60:\n",
    "            old_time = time.time()\n",
    "            requests.request(\"POST\", \n",
    "                             \"https://nebula.udacity.com/api/v1/remote/keep-alive\", \n",
    "                             headers={'Authorization': \"STAR \" + response.text})\n",
    "        \n",
    "        # Randomly sample a caption length, and sample indices with that length.\n",
    "        indices = data_loader.dataset.get_train_indices()\n",
    "        # Create and assign a batch sampler to retrieve a batch with the sampled indices.\n",
    "        new_sampler = data.sampler.SubsetRandomSampler(indices=indices)\n",
    "        data_loader.batch_sampler.sampler = new_sampler\n",
    "        \n",
    "        # Obtain the batch.\n",
    "        images, captions = next(iter(data_loader))\n",
    "\n",
    "        # Move batch of images and captions to GPU if CUDA is available.\n",
    "        images = images.to(device)\n",
    "        captions = captions.to(device)\n",
    "        \n",
    "        # Zero the gradients.\n",
    "        decoder.zero_grad()\n",
    "        encoder.zero_grad()\n",
    "        \n",
    "        # Pass the inputs through the CNN-RNN model.\n",
    "        features = encoder(images)\n",
    "        outputs = decoder(features, captions)\n",
    "        \n",
    "        # Calculate the batch loss.\n",
    "        loss = criterion(outputs.view(-1, vocab_size), captions.view(-1))\n",
    "        \n",
    "        # Backward pass.\n",
    "        loss.backward()\n",
    "        \n",
    "        # Update the parameters in the optimizer.\n",
    "        optimizer.step()\n",
    "            \n",
    "        # Get training statistics.\n",
    "        stats = 'Epoch [%d/%d], Step [%d/%d], Loss: %.4f, Perplexity: %5.4f' % (epoch, num_epochs, i_step, total_step, loss.item(), np.exp(loss.item()))\n",
    "        \n",
    "        # Print training statistics (on same line).\n",
    "        print('\\r' + stats, end=\"\")\n",
    "        sys.stdout.flush()\n",
    "        \n",
    "        # Print training statistics to file.\n",
    "        f.write(stats + '\\n')\n",
    "        f.flush()\n",
    "        \n",
    "        # Print training statistics (on different line).\n",
    "        if i_step % print_every == 0:\n",
    "            print('\\r' + stats)\n",
    "            \n",
    "    # Save the weights.\n",
    "    if epoch % save_every == 0:\n",
    "        torch.save(decoder.state_dict(), os.path.join('./models', 'decoder-2%d.pkl' % epoch))\n",
    "        torch.save(encoder.state_dict(), os.path.join('./models', 'encoder-2%d.pkl' % epoch))\n",
    "\n",
    "# Close the training log file.\n",
    "f.close()"
   ]
  },
  {
   "cell_type": "code",
   "execution_count": 4,
   "metadata": {},
   "outputs": [],
   "source": [
    "# (Optional) TODO: Validate your model."
   ]
  }
 ],
 "metadata": {
  "anaconda-cloud": {},
  "kernelspec": {
   "display_name": "Python 3",
   "language": "python",
   "name": "python3"
  },
  "language_info": {
   "codemirror_mode": {
    "name": "ipython",
    "version": 3
   },
   "file_extension": ".py",
   "mimetype": "text/x-python",
   "name": "python",
   "nbconvert_exporter": "python",
   "pygments_lexer": "ipython3",
   "version": "3.6.8"
  }
 },
 "nbformat": 4,
 "nbformat_minor": 2
}
